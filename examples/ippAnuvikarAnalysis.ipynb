{
 "cells": [
  {
   "cell_type": "code",
   "execution_count": 10,
   "id": "f92685ed",
   "metadata": {},
   "outputs": [],
   "source": [
    "import sys\n",
    "import os\n",
    "pathToCsaranshPP = \"/home/utkarsh/code/AnuVikar/\" # change if required\n",
    "sys.path.append(pathToCsaranshPP)\n",
    "from pysrc.anuvikar_cdb_helper import getDefaultConfig, getDefaultInfos, processXyzFilesInDirGivenInfo, processXyzFileGivenInfo\n",
    "buildDir = os.path.join(pathToCsaranshPP, \"_build\")\n",
    "libPath = os.path.join(buildDir, \"libanuvikar_shared.so\")  # path to anuvikar library\n",
    "if (not os.path.exists(buildDir) or not os.path.exists(libPath)):\n",
    "    print(\"Library not found. Might be due to build errors in cmake.\")\n",
    "    print(\"If built successfully, specify correct build directory & lib file (so / dlib / dlib) above.\")\n",
    "    \n",
    "import plotly as py\n",
    "import plotly.express as px\n",
    "import json\n",
    "cascades = None\n",
    "debug = False\n",
    "data = None\n",
    "\n",
    "def isInterstitial(coord):\n",
    "    return 1 == coord[3]\n",
    "\n",
    "def isSurviving(coord):\n",
    "    return 1 == coord[5]"
   ]
  },
  {
   "cell_type": "code",
   "execution_count": 2,
   "id": "c7de2046",
   "metadata": {},
   "outputs": [],
   "source": [
    "import ipyparallel as ipp"
   ]
  },
  {
   "cell_type": "code",
   "execution_count": 3,
   "id": "e2613165",
   "metadata": {},
   "outputs": [
    {
     "name": "stdout",
     "output_type": "stream",
     "text": [
      "2023-06-19 15:57:49.978 [IPClusterStart] Starting ipcluster with [daemonize=True]\n",
      "2023-06-19 15:57:50.493 [IPController] Hub listening on tcp://127.0.0.1:49717 for registration.\n",
      "2023-06-19 15:57:50.496 [IPController] Hub using DB backend: DictDB\n",
      "2023-06-19 15:57:50.748 [IPController] hub::created hub\n",
      "2023-06-19 15:57:50.749 [IPController] writing connection info to /home/utkarsh/.ipython/profile_default/security/ipcontroller-client.json\n",
      "2023-06-19 15:57:50.750 [IPController] writing connection info to /home/utkarsh/.ipython/profile_default/security/ipcontroller-engine.json\n",
      "2023-06-19 15:57:50.751 [IPController] task::using Python leastload Task scheduler\n",
      "2023-06-19 15:57:50.763 [IPController] Heartmonitor beating every 3000ms\n",
      "2023-06-19 15:57:50.765 [task] Task scheduler started [leastload]\n",
      "2023-06-19 15:57:50.765 [broadcast-00] BroadcastScheduler 00 started\n",
      "2023-06-19 15:57:50.765 [broadcast-0] BroadcastScheduler 0 started\n",
      "2023-06-19 15:57:50.766 [broadcast-01] BroadcastScheduler 01 started\n",
      "2023-06-19 15:57:50.766 [IPController] client::client b'\\x00k\\x8bEg' requested 'connection_request'\n",
      "2023-06-19 15:57:50.766 [IPController] client::client [b'\\x00k\\x8bEg'] connected\n",
      "2023-06-19 15:57:50.769 [IPController] heartbeat::waiting for subscription\n",
      "2023-06-19 15:57:50.770 [IPController] heartbeat::subscription started\n",
      "2023-06-19 15:57:51.027 [IPClusterStart] Starting 4 engines with <class 'ipyparallel.cluster.launcher.LocalEngineSetLauncher'>\n",
      "Leaving cluster running: /home/utkarsh/.ipython/profile_default/security/cluster-.json\n"
     ]
    }
   ],
   "source": [
    "npp = 4\n",
    "!ipcluster start -n {npp} --daemonize"
   ]
  },
  {
   "cell_type": "code",
   "execution_count": 4,
   "id": "e52bc2e0",
   "metadata": {},
   "outputs": [],
   "source": [
    "client = ipp.Client()"
   ]
  },
  {
   "cell_type": "code",
   "execution_count": 6,
   "id": "ca28be2e",
   "metadata": {},
   "outputs": [],
   "source": [
    "# wait and rerun after a few seconds if it shows error\n",
    "view = client[:]"
   ]
  },
  {
   "cell_type": "code",
   "execution_count": 12,
   "id": "797bc818",
   "metadata": {},
   "outputs": [],
   "source": [
    "from pysrc.anuvikar_cdb_helper import ippProcessXyzFilesInDirGivenInfo"
   ]
  },
  {
   "cell_type": "code",
   "execution_count": 8,
   "id": "9491b6bd",
   "metadata": {},
   "outputs": [
    {
     "name": "stdout",
     "output_type": "stream",
     "text": [
      "['/home/utkarsh/code/AnuVikar', '/home/utkarsh/code/AnuVikar', '/home/utkarsh/code/AnuVikar', '/home/utkarsh/code/AnuVikar']\n"
     ]
    }
   ],
   "source": [
    "view.map_sync(os.chdir, [pathToCsaranshPP]*npp)\n",
    "print(view.apply_sync(os.getcwd))"
   ]
  },
  {
   "cell_type": "code",
   "execution_count": 13,
   "id": "e4879a7c",
   "metadata": {},
   "outputs": [
    {
     "name": "stdout",
     "output_type": "stream",
     "text": [
      "10 xyz files\n",
      "Writing results to  out.json\n"
     ]
    }
   ],
   "source": [
    "if not cascades:\n",
    "    config = getDefaultConfig()\n",
    "    config['logFilePath'] = \"local-log.txt\"\n",
    "    config['anuvikarLib'] = libPath\n",
    "    info, extraInfo = getDefaultInfos()\n",
    "    extraInfo['substrate'] = \"Fe\"\n",
    "    extraInfo['isPKAGiven'] = False\n",
    "    info['structure'] = \"bcc\"\n",
    "    info['isIgnoreBoundary'] = False\n",
    "    info['xyzFileType'] = \"Generic\"\n",
    "    info['xyzColumnStart'] = 2\n",
    "    info[\"latticeConst\"] = 2.86\n",
    "    #info[\"latticeConst\"] = 3.18#652\n",
    "    extraInfo['energy'] = 20\n",
    "    #info['originType'] = 1\n",
    "    info['extraColumnStart'] = -2\n",
    "    extraInfo[\"author\"] = \"Andrea\"\n",
    "\n",
    "    #xyzDir = \"../T300K_50keV_data/\"\n",
    "    xyzDir = \"/home/utkarsh/code/aviml/parallelize/006-fpos-20/\"\n",
    "    #xyzDir = \"/media/utkarsh/data/andreas/3-Derlet-Dudarev/fpos\"\n",
    "    cascades = ippProcessXyzFilesInDirGivenInfo(xyzDir, info, extraInfo, config, view, prefix=[], suffix=[\"z\"], outputJsonFilename=\"out.json\")\n",
    "#name=\"_mason_3_0\"\n",
    "#cascade['xyzFilePath'] = \"./CRAMD_3.000_0.000.xyz\"\n",
    "#cascade['origin'] = [-3.7, 0, 0.0]\n",
    "#cascade['boxSize'] = [638, 202.5, 202.5]"
   ]
  },
  {
   "cell_type": "code",
   "execution_count": 14,
   "id": "311538e2",
   "metadata": {},
   "outputs": [
    {
     "name": "stdout",
     "output_type": "stream",
     "text": [
      "2023-06-19 15:58:36.033 [IPClusterStop] Stopping cluster \n",
      "2023-06-19 15:58:36.034 [IPClusterStop] Stopping controller\n",
      "2023-06-19 15:58:36.112 [IPClusterStop] Stopping engine(s): 1687170471\n"
     ]
    }
   ],
   "source": [
    "!ipcluster stop "
   ]
  },
  {
   "cell_type": "code",
   "execution_count": 16,
   "id": "7333243d",
   "metadata": {},
   "outputs": [],
   "source": [
    "from pysrc.anuvikar_ml import validateForCdb"
   ]
  },
  {
   "cell_type": "code",
   "execution_count": 21,
   "id": "098825af",
   "metadata": {},
   "outputs": [
    {
     "name": "stdout",
     "output_type": "stream",
     "text": [
      "Adding coordinates in eigen dimensions and convex hulls for cascades...\n",
      "to /home/utkarsh/code/aviml/parallelize/006-fpos-20/006-fpos-20-1.xyz           finished.\n",
      "Defect morphology identification & classification...\n",
      "finished.\n"
     ]
    }
   ],
   "source": [
    "cascades = validateForCdb(cascades, isInit=True, isAddClusterComparison=False, isAddClassification=True)"
   ]
  },
  {
   "cell_type": "code",
   "execution_count": 22,
   "id": "4e760250",
   "metadata": {},
   "outputs": [],
   "source": [
    "with open(\"cascades.json\", 'w') as f:\n",
    "    json.dump(cascades, f)"
   ]
  },
  {
   "cell_type": "code",
   "execution_count": 23,
   "id": "0fe3c346",
   "metadata": {},
   "outputs": [],
   "source": [
    "import seaborn as sns\n",
    "import pandas as pd"
   ]
  },
  {
   "cell_type": "code",
   "execution_count": 24,
   "id": "d29f833f",
   "metadata": {},
   "outputs": [
    {
     "data": {
      "text/plain": [
       "<Axes: xlabel='id', ylabel='n_defects'>"
      ]
     },
     "execution_count": 24,
     "metadata": {},
     "output_type": "execute_result"
    },
    {
     "data": {
      "image/png": "[encoded data removed]",
      "text/plain": [
       "<Figure size 640x480 with 1 Axes>"
      ]
     },
     "metadata": {},
     "output_type": "display_data"
    }
   ],
   "source": [
    "df = pd.DataFrame(cascades)\n",
    "sns.scatterplot(data=df, x=\"id\", y=\"n_defects\")"
   ]
  }
 ],
 "metadata": {
  "kernelspec": {
   "display_name": "Python 3 (ipykernel)",
   "language": "python",
   "name": "python3"
  },
  "language_info": {
   "codemirror_mode": {
    "name": "ipython",
    "version": 3
   },
   "file_extension": ".py",
   "mimetype": "text/x-python",
   "name": "python",
   "nbconvert_exporter": "python",
   "pygments_lexer": "ipython3",
   "version": "3.8.12"
  }
 },
 "nbformat": 4,
 "nbformat_minor": 5
}
